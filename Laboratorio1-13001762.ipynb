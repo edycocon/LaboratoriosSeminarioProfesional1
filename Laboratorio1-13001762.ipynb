{
  "nbformat": 4,
  "nbformat_minor": 0,
  "metadata": {
    "colab": {
      "name": "Copia de lesson1-image-classifier.ipynb",
      "provenance": [],
      "collapsed_sections": [],
      "machine_shape": "hm",
      "include_colab_link": true
    },
    "kernelspec": {
      "name": "python3",
      "display_name": "Python 3"
    }
  },
  "cells": [
    {
      "cell_type": "markdown",
      "metadata": {
        "id": "view-in-github",
        "colab_type": "text"
      },
      "source": [
        "<a href=\"https://colab.research.google.com/github/edycocon/LaboratoriosSeminarioProfesional1/blob/master/Laboratorio1-13001762.ipynb\" target=\"_parent\"><img src=\"https://colab.research.google.com/assets/colab-badge.svg\" alt=\"Open In Colab\"/></a>"
      ]
    },
    {
      "cell_type": "markdown",
      "metadata": {
        "id": "TbG9km9sm36l",
        "colab_type": "text"
      },
      "source": [
        "# Imports"
      ]
    },
    {
      "cell_type": "code",
      "metadata": {
        "id": "dMjrOqHIdn2L",
        "colab_type": "code",
        "colab": {}
      },
      "source": [
        "%tensorflow_version 2.x\n",
        "\n",
        "import tensorflow as tf\n",
        "#from tensorflow.keras.datasets import cifar10\n",
        "from tensorflow.keras.datasets import fashion_mnist\n",
        "\n",
        "from tensorflow.keras.models import Sequential\n",
        "from tensorflow.keras.layers import Dense, Flatten\n",
        "\n",
        "\n",
        "import numpy as np\n",
        "import PIL.Image as Image\n",
        "import matplotlib.pylab as plt\n",
        "\n",
        "#dark mode\n",
        "plt.rc_context({'xtick.color':'w', 'ytick.color':'w', 'text.color':'w', 'axes.labelcolor':'w'})\n",
        "\n",
        "seed=1234\n",
        "np.random.seed(seed)\n",
        "tf.random.set_seed(seed)"
      ],
      "execution_count": 0,
      "outputs": []
    },
    {
      "cell_type": "markdown",
      "metadata": {
        "id": "YDFTdrpJhgeT",
        "colab_type": "text"
      },
      "source": [
        "# Working with a dataset"
      ]
    },
    {
      "cell_type": "markdown",
      "metadata": {
        "id": "MPaFf11CMQwT",
        "colab_type": "text"
      },
      "source": [
        "##Load and explore the dataset"
      ]
    },
    {
      "cell_type": "code",
      "metadata": {
        "id": "PIfFLq3Hd8rb",
        "colab_type": "code",
        "colab": {}
      },
      "source": [
        "(train_images, train_labels), (test_images, test_labels) = fashion_mnist.load_data()"
      ],
      "execution_count": 0,
      "outputs": []
    },
    {
      "cell_type": "code",
      "metadata": {
        "id": "Pzia1K20ucMP",
        "colab_type": "code",
        "colab": {}
      },
      "source": [
        ""
      ],
      "execution_count": 0,
      "outputs": []
    },
    {
      "cell_type": "code",
      "metadata": {
        "id": "5H9hLXvOedVi",
        "colab_type": "code",
        "outputId": "6171c9e8-33ba-471c-ed54-6fe2318da1b3",
        "colab": {
          "base_uri": "https://localhost:8080/",
          "height": 68
        }
      },
      "source": [
        "print('train_images shape:', train_images.shape)\n",
        "print(train_images.shape[0], 'train samples')\n",
        "print(test_images.shape[0], 'test samples')"
      ],
      "execution_count": 0,
      "outputs": [
        {
          "output_type": "stream",
          "text": [
            "train_images shape: (60000, 28, 28)\n",
            "60000 train samples\n",
            "10000 test samples\n"
          ],
          "name": "stdout"
        }
      ]
    },
    {
      "cell_type": "code",
      "metadata": {
        "id": "OEKjU5W2fnZh",
        "colab_type": "code",
        "colab": {}
      },
      "source": [
        "class_names = ['T-shirt/top', 'Trouser', 'Pullover', 'Dress', 'Coat','Sandal', 'Shirt', 'Sneaker', 'Bag', 'Ankle boot']\n"
      ],
      "execution_count": 0,
      "outputs": []
    },
    {
      "cell_type": "code",
      "metadata": {
        "id": "JX71c_gtel2k",
        "colab_type": "code",
        "outputId": "c2c8343e-8a6c-43be-e082-e84abbf11923",
        "colab": {
          "base_uri": "https://localhost:8080/",
          "height": 281
        }
      },
      "source": [
        "plt.imshow(train_images[0])\n",
        "plt.title(class_names[train_labels[0]])\n",
        "plt.axis('on')\n",
        "plt.show()"
      ],
      "execution_count": 0,
      "outputs": [
        {
          "output_type": "display_data",
          "data": {
            "image/png": "[encoded data removed]",
            "text/plain": [
              "<Figure size 432x288 with 1 Axes>"
            ]
          },
          "metadata": {
            "tags": []
          }
        }
      ]
    },
    {
      "cell_type": "markdown",
      "metadata": {
        "id": "iven3TBvxybr",
        "colab_type": "text"
      },
      "source": [
        "## Transform\n",
        "Convert to grayscale, normalize & standarize"
      ]
    },
    {
      "cell_type": "code",
      "metadata": {
        "id": "ZWsLHWocfF5B",
        "colab_type": "code",
        "outputId": "6e17bc7c-1be8-4c84-ed15-f70b1e54d81d",
        "colab": {
          "base_uri": "https://localhost:8080/",
          "height": 35
        }
      },
      "source": [
        "train_images = (train_images-np.mean(train_images)) / np.std(train_images)\n",
        "\n",
        "#train_images = tf.squeeze(tf.image.rgb_to_grayscale(train_images / 255.0))\n",
        "\n",
        "test_images = (test_images-np.mean(test_images)) / np.std(test_images)\n",
        "#test_images = tf.squeeze(tf.image.rgb_to_grayscale(test_images / 255.0))\n",
        "\n",
        "train_images.shape, test_images.shape"
      ],
      "execution_count": 65,
      "outputs": [
        {
          "output_type": "execute_result",
          "data": {
            "text/plain": [
              "((60000, 28, 28), (10000, 28, 28))"
            ]
          },
          "metadata": {
            "tags": []
          },
          "execution_count": 65
        }
      ]
    },
    {
      "cell_type": "code",
      "metadata": {
        "id": "fb8TsFEoqBiU",
        "colab_type": "code",
        "outputId": "97d8c11f-4473-40c2-858a-d179066e2db4",
        "colab": {
          "base_uri": "https://localhost:8080/",
          "height": 281
        }
      },
      "source": [
        "plt.imshow(train_images[0], cmap=plt.cm.binary)\n",
        "plt.title(class_names[train_labels[0]])\n",
        "plt.show()"
      ],
      "execution_count": 67,
      "outputs": [
        {
          "output_type": "display_data",
          "data": {
            "image/png": "[encoded data removed]",
            "text/plain": [
              "<Figure size 432x288 with 1 Axes>"
            ]
          },
          "metadata": {
            "tags": []
          }
        }
      ]
    },
    {
      "cell_type": "markdown",
      "metadata": {
        "id": "y1LaJ8FQx6UR",
        "colab_type": "text"
      },
      "source": [
        "## Explore final dataset"
      ]
    },
    {
      "cell_type": "code",
      "metadata": {
        "id": "6mmCBoh6fGsf",
        "colab_type": "code",
        "outputId": "ce6ab6df-91a1-47a1-914d-2fbd5abd2419",
        "colab": {
          "base_uri": "https://localhost:8080/",
          "height": 364
        }
      },
      "source": [
        "plt.figure(figsize=(10,10))\n",
        "for i in range(15):\n",
        "    plt.subplot(5,5,i+1)\n",
        "    plt.xticks([])\n",
        "    plt.yticks([])\n",
        "    plt.grid(False)\n",
        "    plt.imshow(train_images[i], cmap=plt.cm.binary)\n",
        "    plt.xlabel(class_names[train_labels[i]], color='w')\n",
        "plt.show()"
      ],
      "execution_count": 69,
      "outputs": [
        {
          "output_type": "display_data",
          "data": {
            "image/png": "[encoded data removed]",
            "text/plain": [
              "<Figure size 720x720 with 15 Axes>"
            ]
          },
          "metadata": {
            "tags": []
          }
        }
      ]
    },
    {
      "cell_type": "markdown",
      "metadata": {
        "id": "plhAGACudszJ",
        "colab_type": "text"
      },
      "source": [
        "# Build the model"
      ]
    },
    {
      "cell_type": "code",
      "metadata": {
        "id": "mKUNTTEIhmZO",
        "colab_type": "code",
        "colab": {}
      },
      "source": [
        "model = Sequential([\n",
        "    Flatten(input_shape=(28, 28)),\n",
        "    Dense(784, activation='relu'),\n",
        "    Dense(512, activation='relu'),\n",
        "    Dense(10, activation='softmax')\n",
        "])"
      ],
      "execution_count": 0,
      "outputs": []
    },
    {
      "cell_type": "code",
      "metadata": {
        "id": "BSJra91-hqng",
        "colab_type": "code",
        "colab": {}
      },
      "source": [
        "model.compile(optimizer='sgd',\n",
        "              loss='sparse_categorical_crossentropy',\n",
        "              metrics=['accuracy'])"
      ],
      "execution_count": 0,
      "outputs": []
    },
    {
      "cell_type": "code",
      "metadata": {
        "id": "jlG5YmYFjAhb",
        "colab_type": "code",
        "outputId": "85014617-0a3a-45ec-ee15-b2ec891e3e83",
        "colab": {
          "base_uri": "https://localhost:8080/",
          "height": 289
        }
      },
      "source": [
        "model.summary()"
      ],
      "execution_count": 0,
      "outputs": [
        {
          "output_type": "stream",
          "text": [
            "Model: \"sequential\"\n",
            "_________________________________________________________________\n",
            "Layer (type)                 Output Shape              Param #   \n",
            "=================================================================\n",
            "flatten (Flatten)            (None, 1024)              0         \n",
            "_________________________________________________________________\n",
            "dense (Dense)                (None, 1024)              1049600   \n",
            "_________________________________________________________________\n",
            "dense_1 (Dense)              (None, 1024)              1049600   \n",
            "_________________________________________________________________\n",
            "dense_2 (Dense)              (None, 10)                10250     \n",
            "=================================================================\n",
            "Total params: 2,109,450\n",
            "Trainable params: 2,109,450\n",
            "Non-trainable params: 0\n",
            "_________________________________________________________________\n"
          ],
          "name": "stdout"
        }
      ]
    },
    {
      "cell_type": "code",
      "metadata": {
        "colab_type": "code",
        "outputId": "4fefffab-a226-42c7-8532-011cb1827c31",
        "id": "84Ud0hbqqfkf",
        "colab": {
          "base_uri": "https://localhost:8080/",
          "height": 1000
        }
      },
      "source": [
        "history = model.fit(train_images, \n",
        "          train_labels, \n",
        "          validation_split=0.3,\n",
        "          epochs=50\n",
        "          )"
      ],
      "execution_count": 82,
      "outputs": [
        {
          "output_type": "stream",
          "text": [
            "Train on 42000 samples, validate on 18000 samples\n",
            "Epoch 1/50\n",
            "42000/42000 [==============================] - 9s 208us/sample - loss: 0.2171 - accuracy: 0.9224 - val_loss: 0.3211 - val_accuracy: 0.8880\n",
            "Epoch 2/50\n",
            "42000/42000 [==============================] - 9s 209us/sample - loss: 0.2067 - accuracy: 0.9275 - val_loss: 0.3209 - val_accuracy: 0.8852\n",
            "Epoch 3/50\n",
            "42000/42000 [==============================] - 9s 208us/sample - loss: 0.1977 - accuracy: 0.9300 - val_loss: 0.3243 - val_accuracy: 0.8831\n",
            "Epoch 4/50\n",
            "42000/42000 [==============================] - 9s 206us/sample - loss: 0.1877 - accuracy: 0.9348 - val_loss: 0.3068 - val_accuracy: 0.8928\n",
            "Epoch 5/50\n",
            "42000/42000 [==============================] - 9s 203us/sample - loss: 0.1797 - accuracy: 0.9363 - val_loss: 0.3252 - val_accuracy: 0.8875\n",
            "Epoch 6/50\n",
            "42000/42000 [==============================] - 9s 207us/sample - loss: 0.1700 - accuracy: 0.9403 - val_loss: 0.3041 - val_accuracy: 0.8948\n",
            "Epoch 7/50\n",
            "42000/42000 [==============================] - 9s 206us/sample - loss: 0.1621 - accuracy: 0.9437 - val_loss: 0.2997 - val_accuracy: 0.8951\n",
            "Epoch 8/50\n",
            "42000/42000 [==============================] - 9s 207us/sample - loss: 0.1544 - accuracy: 0.9487 - val_loss: 0.3264 - val_accuracy: 0.8879\n",
            "Epoch 9/50\n",
            "42000/42000 [==============================] - 8s 201us/sample - loss: 0.1476 - accuracy: 0.9479 - val_loss: 0.3112 - val_accuracy: 0.8897\n",
            "Epoch 10/50\n",
            "42000/42000 [==============================] - 8s 201us/sample - loss: 0.1411 - accuracy: 0.9510 - val_loss: 0.3051 - val_accuracy: 0.8962\n",
            "Epoch 11/50\n",
            "42000/42000 [==============================] - 9s 211us/sample - loss: 0.1334 - accuracy: 0.9549 - val_loss: 0.3243 - val_accuracy: 0.8894\n",
            "Epoch 12/50\n",
            "42000/42000 [==============================] - 9s 206us/sample - loss: 0.1258 - accuracy: 0.9568 - val_loss: 0.3257 - val_accuracy: 0.8886\n",
            "Epoch 13/50\n",
            "42000/42000 [==============================] - 9s 207us/sample - loss: 0.1212 - accuracy: 0.9591 - val_loss: 0.3256 - val_accuracy: 0.8929\n",
            "Epoch 14/50\n",
            "42000/42000 [==============================] - 9s 208us/sample - loss: 0.1148 - accuracy: 0.9613 - val_loss: 0.3468 - val_accuracy: 0.8831\n",
            "Epoch 15/50\n",
            "42000/42000 [==============================] - 9s 203us/sample - loss: 0.1100 - accuracy: 0.9636 - val_loss: 0.3155 - val_accuracy: 0.8946\n",
            "Epoch 16/50\n",
            "42000/42000 [==============================] - 8s 201us/sample - loss: 0.1039 - accuracy: 0.9667 - val_loss: 0.3878 - val_accuracy: 0.8710\n",
            "Epoch 17/50\n",
            "42000/42000 [==============================] - 9s 203us/sample - loss: 0.1005 - accuracy: 0.9663 - val_loss: 0.3147 - val_accuracy: 0.8969\n",
            "Epoch 18/50\n",
            "42000/42000 [==============================] - 9s 204us/sample - loss: 0.0944 - accuracy: 0.9696 - val_loss: 0.3372 - val_accuracy: 0.8907\n",
            "Epoch 19/50\n",
            "42000/42000 [==============================] - 9s 210us/sample - loss: 0.0897 - accuracy: 0.9714 - val_loss: 0.3325 - val_accuracy: 0.8964\n",
            "Epoch 20/50\n",
            "42000/42000 [==============================] - 9s 209us/sample - loss: 0.0836 - accuracy: 0.9742 - val_loss: 0.3238 - val_accuracy: 0.8962\n",
            "Epoch 21/50\n",
            "42000/42000 [==============================] - 9s 203us/sample - loss: 0.0794 - accuracy: 0.9757 - val_loss: 0.3349 - val_accuracy: 0.8968\n",
            "Epoch 22/50\n",
            "42000/42000 [==============================] - 9s 215us/sample - loss: 0.0760 - accuracy: 0.9765 - val_loss: 0.3703 - val_accuracy: 0.8888\n",
            "Epoch 23/50\n",
            "42000/42000 [==============================] - 9s 212us/sample - loss: 0.0723 - accuracy: 0.9767 - val_loss: 0.3530 - val_accuracy: 0.8921\n",
            "Epoch 24/50\n",
            "42000/42000 [==============================] - 9s 212us/sample - loss: 0.0676 - accuracy: 0.9793 - val_loss: 0.3372 - val_accuracy: 0.8993\n",
            "Epoch 25/50\n",
            "42000/42000 [==============================] - 9s 208us/sample - loss: 0.0647 - accuracy: 0.9808 - val_loss: 0.3567 - val_accuracy: 0.8904\n",
            "Epoch 26/50\n",
            "42000/42000 [==============================] - 9s 205us/sample - loss: 0.0620 - accuracy: 0.9811 - val_loss: 0.3478 - val_accuracy: 0.8959\n",
            "Epoch 27/50\n",
            "42000/42000 [==============================] - 9s 221us/sample - loss: 0.0581 - accuracy: 0.9831 - val_loss: 0.3433 - val_accuracy: 0.8981\n",
            "Epoch 28/50\n",
            "42000/42000 [==============================] - 9s 219us/sample - loss: 0.0543 - accuracy: 0.9842 - val_loss: 0.3551 - val_accuracy: 0.8963\n",
            "Epoch 29/50\n",
            "42000/42000 [==============================] - 9s 208us/sample - loss: 0.0515 - accuracy: 0.9849 - val_loss: 0.3884 - val_accuracy: 0.8938\n",
            "Epoch 30/50\n",
            "42000/42000 [==============================] - 9s 204us/sample - loss: 0.0479 - accuracy: 0.9871 - val_loss: 0.3655 - val_accuracy: 0.8962\n",
            "Epoch 31/50\n",
            "42000/42000 [==============================] - 9s 204us/sample - loss: 0.0468 - accuracy: 0.9870 - val_loss: 0.3755 - val_accuracy: 0.8953\n",
            "Epoch 32/50\n",
            "42000/42000 [==============================] - 9s 203us/sample - loss: 0.0438 - accuracy: 0.9885 - val_loss: 0.3747 - val_accuracy: 0.8961\n",
            "Epoch 33/50\n",
            "42000/42000 [==============================] - 8s 202us/sample - loss: 0.0418 - accuracy: 0.9888 - val_loss: 0.3663 - val_accuracy: 0.8989\n",
            "Epoch 34/50\n",
            "42000/42000 [==============================] - 8s 201us/sample - loss: 0.0405 - accuracy: 0.9893 - val_loss: 0.3715 - val_accuracy: 0.8974\n",
            "Epoch 35/50\n",
            "42000/42000 [==============================] - 9s 203us/sample - loss: 0.0361 - accuracy: 0.9908 - val_loss: 0.3925 - val_accuracy: 0.8957\n",
            "Epoch 36/50\n",
            "42000/42000 [==============================] - 9s 203us/sample - loss: 0.0349 - accuracy: 0.9914 - val_loss: 0.3791 - val_accuracy: 0.8979\n",
            "Epoch 37/50\n",
            "42000/42000 [==============================] - 8s 202us/sample - loss: 0.0317 - accuracy: 0.9930 - val_loss: 0.3813 - val_accuracy: 0.8970\n",
            "Epoch 38/50\n",
            "42000/42000 [==============================] - 8s 201us/sample - loss: 0.0296 - accuracy: 0.9928 - val_loss: 0.5075 - val_accuracy: 0.8857\n",
            "Epoch 39/50\n",
            "42000/42000 [==============================] - 9s 205us/sample - loss: 0.0293 - accuracy: 0.9930 - val_loss: 0.3910 - val_accuracy: 0.8948\n",
            "Epoch 40/50\n",
            "42000/42000 [==============================] - 8s 202us/sample - loss: 0.0268 - accuracy: 0.9942 - val_loss: 0.3954 - val_accuracy: 0.8979\n",
            "Epoch 41/50\n",
            "42000/42000 [==============================] - 9s 206us/sample - loss: 0.0255 - accuracy: 0.9945 - val_loss: 0.3975 - val_accuracy: 0.8979\n",
            "Epoch 42/50\n",
            "42000/42000 [==============================] - 9s 203us/sample - loss: 0.0237 - accuracy: 0.9948 - val_loss: 0.3941 - val_accuracy: 0.8983\n",
            "Epoch 43/50\n",
            "42000/42000 [==============================] - 8s 201us/sample - loss: 0.0208 - accuracy: 0.9965 - val_loss: 0.4151 - val_accuracy: 0.8967\n",
            "Epoch 44/50\n",
            "42000/42000 [==============================] - 9s 203us/sample - loss: 0.0222 - accuracy: 0.9955 - val_loss: 0.4041 - val_accuracy: 0.8979\n",
            "Epoch 45/50\n",
            "42000/42000 [==============================] - 9s 205us/sample - loss: 0.0186 - accuracy: 0.9968 - val_loss: 0.4521 - val_accuracy: 0.8919\n",
            "Epoch 46/50\n",
            "42000/42000 [==============================] - 9s 208us/sample - loss: 0.0172 - accuracy: 0.9975 - val_loss: 0.4090 - val_accuracy: 0.8983\n",
            "Epoch 47/50\n",
            "42000/42000 [==============================] - 9s 210us/sample - loss: 0.0178 - accuracy: 0.9970 - val_loss: 0.4250 - val_accuracy: 0.8967\n",
            "Epoch 48/50\n",
            "42000/42000 [==============================] - 9s 212us/sample - loss: 0.0144 - accuracy: 0.9982 - val_loss: 0.4331 - val_accuracy: 0.8958\n",
            "Epoch 49/50\n",
            "42000/42000 [==============================] - 8s 201us/sample - loss: 0.0138 - accuracy: 0.9982 - val_loss: 0.4229 - val_accuracy: 0.8978\n",
            "Epoch 50/50\n",
            "42000/42000 [==============================] - 9s 206us/sample - loss: 0.0132 - accuracy: 0.9983 - val_loss: 0.4270 - val_accuracy: 0.8999\n"
          ],
          "name": "stdout"
        }
      ]
    },
    {
      "cell_type": "markdown",
      "metadata": {
        "id": "IJ5zvQjgkF4C",
        "colab_type": "text"
      },
      "source": [
        "# Evaluate"
      ]
    },
    {
      "cell_type": "code",
      "metadata": {
        "id": "7GeqyQTvsjmD",
        "colab_type": "code",
        "outputId": "d3946ea3-8b0e-4915-dfa8-87f2191ed0d3",
        "colab": {
          "base_uri": "https://localhost:8080/",
          "height": 621
        }
      },
      "source": [
        "acc = history.history['accuracy']\n",
        "val_acc = history.history['val_accuracy']\n",
        "\n",
        "loss = history.history['loss']\n",
        "val_loss = history.history['val_loss']\n",
        "\n",
        "plt.figure(figsize=(10, 10))\n",
        "plt.subplot(2, 1, 1)\n",
        "plt.plot(acc, label='Training Accuracy')\n",
        "plt.plot(val_acc, label='Validation Accuracy')\n",
        "plt.legend(loc='lower right')\n",
        "plt.setp(plt.legend().get_texts(), color='black')\n",
        "plt.ylabel('Accuracy')\n",
        "#plt.ylim([min(plt.ylim()),0.7])\n",
        "plt.ylim([0.7,1.2])\n",
        "plt.title('Training and Validation Accuracy')\n",
        "\n",
        "plt.subplot(2, 1, 2)\n",
        "plt.plot(loss, label='Training Loss')\n",
        "plt.plot(val_loss, label='Validation Loss')\n",
        "plt.legend(loc='upper right')\n",
        "plt.setp(plt.legend().get_texts(), color='black')\n",
        "plt.ylabel('Cross Entropy')\n",
        "plt.ylim([-0.5,0.8])\n",
        "plt.title('Training and Validation Loss')\n",
        "plt.xlabel('epoch')\n",
        "plt.show()\n"
      ],
      "execution_count": 97,
      "outputs": [
        {
          "output_type": "display_data",
          "data": {
            "image/png": "[encoded data removed]",
            "text/plain": [
              "<Figure size 720x720 with 2 Axes>"
            ]
          },
          "metadata": {
            "tags": []
          }
        }
      ]
    },
    {
      "cell_type": "code",
      "metadata": {
        "id": "D1V31yORhsBr",
        "colab_type": "code",
        "outputId": "bb444612-52a6-4ae0-eac2-575bb721ff01",
        "colab": {
          "base_uri": "https://localhost:8080/",
          "height": 52
        }
      },
      "source": [
        "test_loss, test_acc = model.evaluate(test_images,  test_labels, verbose=3)\n",
        "\n",
        "print('Loss:', test_loss)\n",
        "print('Accuracy:', test_acc)"
      ],
      "execution_count": 84,
      "outputs": [
        {
          "output_type": "stream",
          "text": [
            "Loss: 0.47205318331569435\n",
            "Accuracy: 0.8909\n"
          ],
          "name": "stdout"
        }
      ]
    },
    {
      "cell_type": "markdown",
      "metadata": {
        "id": "eerMeVUskHw3",
        "colab_type": "text"
      },
      "source": [
        "# Make predictions"
      ]
    },
    {
      "cell_type": "code",
      "metadata": {
        "id": "Xi5yFJ-fi1-1",
        "colab_type": "code",
        "outputId": "2d267d1d-40b0-4a74-a366-edde9bc5b94e",
        "colab": {
          "base_uri": "https://localhost:8080/",
          "height": 316
        }
      },
      "source": [
        "img_index = np.random.randint(test_images.shape[0])\n",
        "img = test_images[img_index]\n",
        "\n",
        "predictions = model.predict(tf.expand_dims(img, 0))\n",
        "\n",
        "plt.imshow(img, cmap=plt.cm.binary)\n",
        "plt.title(class_names[test_labels[img_index]])\n",
        "plt.show()\n",
        "print('\\nPredicted class is:', class_names[np.argmax(predictions[0])])"
      ],
      "execution_count": 81,
      "outputs": [
        {
          "output_type": "display_data",
          "data": {
            "image/png": "[encoded data removed]",
            "text/plain": [
              "<Figure size 432x288 with 1 Axes>"
            ]
          },
          "metadata": {
            "tags": []
          }
        },
        {
          "output_type": "stream",
          "text": [
            "\n",
            "Predicted class is: Ankle boot\n"
          ],
          "name": "stdout"
        }
      ]
    },
    {
      "cell_type": "code",
      "metadata": {
        "id": "pl7ukWvwmB8_",
        "colab_type": "code",
        "outputId": "647bc6bf-66d7-4d97-af97-5e9cb5e5ea5f",
        "colab": {
          "base_uri": "https://localhost:8080/",
          "height": 359
        }
      },
      "source": [
        "test_image = tf.keras.utils.get_file('car.jpg','https://www.extremetech.com/wp-content/uploads/2019/05/637873-tesla-model-s-2019-640x360.jpg')\n",
        "test_image = Image.open(test_image).resize((32,32)).convert('L')\n",
        "test_image = np.array(test_image)/255.0\n",
        "predictions = model.predict(tf.expand_dims(test_image, 0))\n",
        "\n",
        "plt.imshow(test_image, cmap=plt.cm.binary)\n",
        "print('\\nPredicted class is:', class_names[np.argmax(predictions[0])])"
      ],
      "execution_count": 0,
      "outputs": [
        {
          "output_type": "stream",
          "text": [
            "Downloading data from https://www.extremetech.com/wp-content/uploads/2019/05/637873-tesla-model-s-2019-640x360.jpg\n",
            "32768/29931 [================================] - 0s 0us/step\n",
            "\n",
            "Predicted class is: plane\n"
          ],
          "name": "stdout"
        },
        {
          "output_type": "display_data",
          "data": {
            "image/png": "[encoded data removed]",
            "text/plain": [
              "<Figure size 432x288 with 1 Axes>"
            ]
          },
          "metadata": {
            "tags": []
          }
        }
      ]
    }
  ]
}