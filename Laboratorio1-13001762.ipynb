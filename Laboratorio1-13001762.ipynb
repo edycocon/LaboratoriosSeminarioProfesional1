{
  "nbformat": 4,
  "nbformat_minor": 0,
  "metadata": {
    "colab": {
      "name": "Copia de lesson1-image-classifier.ipynb",
      "provenance": [],
      "collapsed_sections": [],
      "machine_shape": "hm",
      "include_colab_link": true
    },
    "kernelspec": {
      "name": "python3",
      "display_name": "Python 3"
    }
  },
  "cells": [
    {
      "cell_type": "markdown",
      "metadata": {
        "id": "view-in-github",
        "colab_type": "text"
      },
      "source": [
        "<a href=\"https://colab.research.google.com/github/edycocon/LaboratoriosSeminarioProfesional1/blob/master/Laboratorio1-13001762.ipynb\" target=\"_parent\"><img src=\"https://colab.research.google.com/assets/colab-badge.svg\" alt=\"Open In Colab\"/></a>"
      ]
    },
    {
      "cell_type": "markdown",
      "metadata": {
        "id": "TbG9km9sm36l",
        "colab_type": "text"
      },
      "source": [
        "# Imports"
      ]
    },
    {
      "cell_type": "code",
      "metadata": {
        "id": "dMjrOqHIdn2L",
        "colab_type": "code",
        "colab": {}
      },
      "source": [
        "%tensorflow_version 2.x\n",
        "\n",
        "import tensorflow as tf\n",
        "#from tensorflow.keras.datasets import cifar10\n",
        "from tensorflow.keras.datasets import fashion_mnist\n",
        "\n",
        "from tensorflow.keras.models import Sequential\n",
        "from tensorflow.keras.layers import Dense, Flatten\n",
        "\n",
        "\n",
        "import numpy as np\n",
        "import PIL.Image as Image\n",
        "import matplotlib.pylab as plt\n",
        "\n",
        "#dark mode\n",
        "plt.rc_context({'xtick.color':'w', 'ytick.color':'w', 'text.color':'w', 'axes.labelcolor':'w'})\n",
        "\n",
        "seed=1234\n",
        "np.random.seed(seed)\n",
        "tf.random.set_seed(seed)"
      ],
      "execution_count": 0,
      "outputs": []
    },
    {
      "cell_type": "markdown",
      "metadata": {
        "id": "YDFTdrpJhgeT",
        "colab_type": "text"
      },
      "source": [
        "# Working with a dataset"
      ]
    },
    {
      "cell_type": "markdown",
      "metadata": {
        "id": "MPaFf11CMQwT",
        "colab_type": "text"
      },
      "source": [
        "##Load and explore the dataset"
      ]
    },
    {
      "cell_type": "code",
      "metadata": {
        "id": "PIfFLq3Hd8rb",
        "colab_type": "code",
        "colab": {}
      },
      "source": [
        "(train_images, train_labels), (test_images, test_labels) = fashion_mnist.load_data()"
      ],
      "execution_count": 0,
      "outputs": []
    },
    {
      "cell_type": "code",
      "metadata": {
        "id": "Pzia1K20ucMP",
        "colab_type": "code",
        "colab": {}
      },
      "source": [
        ""
      ],
      "execution_count": 0,
      "outputs": []
    },
    {
      "cell_type": "code",
      "metadata": {
        "id": "5H9hLXvOedVi",
        "colab_type": "code",
        "outputId": "6171c9e8-33ba-471c-ed54-6fe2318da1b3",
        "colab": {
          "base_uri": "https://localhost:8080/",
          "height": 68
        }
      },
      "source": [
        "print('train_images shape:', train_images.shape)\n",
        "print(train_images.shape[0], 'train samples')\n",
        "print(test_images.shape[0], 'test samples')"
      ],
      "execution_count": 0,
      "outputs": [
        {
          "output_type": "stream",
          "text": [
            "train_images shape: (60000, 28, 28)\n",
            "60000 train samples\n",
            "10000 test samples\n"
          ],
          "name": "stdout"
        }
      ]
    },
    {
      "cell_type": "code",
      "metadata": {
        "id": "OEKjU5W2fnZh",
        "colab_type": "code",
        "colab": {}
      },
      "source": [
        "class_names = ['T-shirt/top', 'Trouser', 'Pullover', 'Dress', 'Coat','Sandal', 'Shirt', 'Sneaker', 'Bag', 'Ankle boot']\n"
      ],
      "execution_count": 0,
      "outputs": []
    },
    {
      "cell_type": "code",
      "metadata": {
        "id": "JX71c_gtel2k",
        "colab_type": "code",
        "outputId": "c2c8343e-8a6c-43be-e082-e84abbf11923",
        "colab": {
          "base_uri": "https://localhost:8080/",
          "height": 281
        }
      },
      "source": [
        "plt.imshow(train_images[0])\n",
        "plt.title(class_names[train_labels[0]])\n",
        "plt.axis('on')\n",
        "plt.show()"
      ],
      "execution_count": 0,
      "outputs": [
        {
          "output_type": "display_data",
          "data": {
            "image/png": "[encoded data removed]",
            "text/plain": [
              "<Figure size 432x288 with 1 Axes>"
            ]
          },
          "metadata": {
            "tags": []
          }
        }
      ]
    },
    {
      "cell_type": "markdown",
      "metadata": {
        "id": "iven3TBvxybr",
        "colab_type": "text"
      },
      "source": [
        "## Transform\n",
        "Convert to grayscale, normalize & standarize"
      ]
    },
    {
      "cell_type": "code",
      "metadata": {
        "id": "ZWsLHWocfF5B",
        "colab_type": "code",
        "outputId": "6e17bc7c-1be8-4c84-ed15-f70b1e54d81d",
        "colab": {
          "base_uri": "https://localhost:8080/",
          "height": 35
        }
      },
      "source": [
        "train_images = (train_images-np.mean(train_images)) / np.std(train_images)\n",
        "\n",
        "#train_images = tf.squeeze(tf.image.rgb_to_grayscale(train_images / 255.0))\n",
        "\n",
        "test_images = (test_images-np.mean(test_images)) / np.std(test_images)\n",
        "#test_images = tf.squeeze(tf.image.rgb_to_grayscale(test_images / 255.0))\n",
        "\n",
        "train_images.shape, test_images.shape"
      ],
      "execution_count": 0,
      "outputs": [
        {
          "output_type": "execute_result",
          "data": {
            "text/plain": [
              "((60000, 28, 28), (10000, 28, 28))"
            ]
          },
          "metadata": {
            "tags": []
          },
          "execution_count": 65
        }
      ]
    },
    {
      "cell_type": "code",
      "metadata": {
        "id": "fb8TsFEoqBiU",
        "colab_type": "code",
        "outputId": "97d8c11f-4473-40c2-858a-d179066e2db4",
        "colab": {
          "base_uri": "https://localhost:8080/",
          "height": 281
        }
      },
      "source": [
        "plt.imshow(train_images[0], cmap=plt.cm.binary)\n",
        "plt.title(class_names[train_labels[0]])\n",
        "plt.show()"
      ],
      "execution_count": 0,
      "outputs": [
        {
          "output_type": "display_data",
          "data": {
            "image/png": "[encoded data removed]",
            "text/plain": [
              "<Figure size 432x288 with 1 Axes>"
            ]
          },
          "metadata": {
            "tags": []
          }
        }
      ]
    },
    {
      "cell_type": "markdown",
      "metadata": {
        "id": "y1LaJ8FQx6UR",
        "colab_type": "text"
      },
      "source": [
        "## Explore final dataset"
      ]
    },
    {
      "cell_type": "code",
      "metadata": {
        "id": "6mmCBoh6fGsf",
        "colab_type": "code",
        "outputId": "95669c16-f6c7-4098-871a-1f21f5c006ae",
        "colab": {
          "base_uri": "https://localhost:8080/",
          "height": 364
        }
      },
      "source": [
        "plt.figure(figsize=(10,10))\n",
        "for i in range(15):\n",
        "    plt.subplot(5,5,i+1)\n",
        "    plt.xticks([])\n",
        "    plt.yticks([])\n",
        "    plt.grid(False)\n",
        "    plt.imshow(train_images[i], cmap=plt.cm.binary)\n",
        "    plt.xlabel(class_names[train_labels[i]], color='w')\n",
        "plt.show()"
      ],
      "execution_count": 110,
      "outputs": [
        {
          "output_type": "display_data",
          "data": {
            "image/png": "[encoded data removed]",
            "text/plain": [
              "<Figure size 720x720 with 15 Axes>"
            ]
          },
          "metadata": {
            "tags": []
          }
        }
      ]
    },
    {
      "cell_type": "markdown",
      "metadata": {
        "id": "plhAGACudszJ",
        "colab_type": "text"
      },
      "source": [
        "# Build the model"
      ]
    },
    {
      "cell_type": "code",
      "metadata": {
        "id": "mKUNTTEIhmZO",
        "colab_type": "code",
        "colab": {}
      },
      "source": [
        "model = Sequential([\n",
        "    Flatten(input_shape=(28, 28)),\n",
        "    Dense(784, activation='relu'),\n",
        "    Dense(512, activation='relu'),\n",
        "    Dense(200, activation='relu'),\n",
        "    Dense(10, activation='softmax')\n",
        "])"
      ],
      "execution_count": 0,
      "outputs": []
    },
    {
      "cell_type": "code",
      "metadata": {
        "id": "BSJra91-hqng",
        "colab_type": "code",
        "colab": {}
      },
      "source": [
        "model.compile(optimizer='sgd',\n",
        "              loss='sparse_categorical_crossentropy',\n",
        "              metrics=['accuracy'])"
      ],
      "execution_count": 0,
      "outputs": []
    },
    {
      "cell_type": "code",
      "metadata": {
        "id": "jlG5YmYFjAhb",
        "colab_type": "code",
        "outputId": "9332aacf-156a-49b1-e63e-eb3f43ea2671",
        "colab": {
          "base_uri": "https://localhost:8080/",
          "height": 329
        }
      },
      "source": [
        "model.summary()"
      ],
      "execution_count": 113,
      "outputs": [
        {
          "output_type": "stream",
          "text": [
            "Model: \"sequential_5\"\n",
            "_________________________________________________________________\n",
            "Layer (type)                 Output Shape              Param #   \n",
            "=================================================================\n",
            "flatten_5 (Flatten)          (None, 784)               0         \n",
            "_________________________________________________________________\n",
            "dense_15 (Dense)             (None, 784)               615440    \n",
            "_________________________________________________________________\n",
            "dense_16 (Dense)             (None, 512)               401920    \n",
            "_________________________________________________________________\n",
            "dense_17 (Dense)             (None, 200)               102600    \n",
            "_________________________________________________________________\n",
            "dense_18 (Dense)             (None, 10)                2010      \n",
            "=================================================================\n",
            "Total params: 1,121,970\n",
            "Trainable params: 1,121,970\n",
            "Non-trainable params: 0\n",
            "_________________________________________________________________\n"
          ],
          "name": "stdout"
        }
      ]
    },
    {
      "cell_type": "code",
      "metadata": {
        "colab_type": "code",
        "outputId": "3fbc2af9-aeaa-431c-dfea-4014000b8209",
        "id": "84Ud0hbqqfkf",
        "colab": {
          "base_uri": "https://localhost:8080/",
          "height": 901
        }
      },
      "source": [
        "history = model.fit(train_images, \n",
        "          train_labels, \n",
        "          validation_split=0.3,\n",
        "          epochs=25\n",
        "          )"
      ],
      "execution_count": 114,
      "outputs": [
        {
          "output_type": "stream",
          "text": [
            "Train on 42000 samples, validate on 18000 samples\n",
            "Epoch 1/25\n",
            "42000/42000 [==============================] - 10s 240us/sample - loss: 0.5400 - accuracy: 0.8072 - val_loss: 0.4489 - val_accuracy: 0.8409\n",
            "Epoch 2/25\n",
            "42000/42000 [==============================] - 10s 231us/sample - loss: 0.3841 - accuracy: 0.8611 - val_loss: 0.3811 - val_accuracy: 0.8614\n",
            "Epoch 3/25\n",
            "42000/42000 [==============================] - 10s 232us/sample - loss: 0.3429 - accuracy: 0.8747 - val_loss: 0.3770 - val_accuracy: 0.8612\n",
            "Epoch 4/25\n",
            "42000/42000 [==============================] - 10s 235us/sample - loss: 0.3130 - accuracy: 0.8858 - val_loss: 0.3426 - val_accuracy: 0.8768\n",
            "Epoch 5/25\n",
            "42000/42000 [==============================] - 10s 240us/sample - loss: 0.2912 - accuracy: 0.8930 - val_loss: 0.3389 - val_accuracy: 0.8786\n",
            "Epoch 6/25\n",
            "42000/42000 [==============================] - 10s 236us/sample - loss: 0.2704 - accuracy: 0.9014 - val_loss: 0.3314 - val_accuracy: 0.8811\n",
            "Epoch 7/25\n",
            "42000/42000 [==============================] - 10s 240us/sample - loss: 0.2546 - accuracy: 0.9076 - val_loss: 0.3080 - val_accuracy: 0.8882\n",
            "Epoch 8/25\n",
            "42000/42000 [==============================] - 10s 240us/sample - loss: 0.2382 - accuracy: 0.9146 - val_loss: 0.3332 - val_accuracy: 0.8805\n",
            "Epoch 9/25\n",
            "42000/42000 [==============================] - 10s 238us/sample - loss: 0.2254 - accuracy: 0.9183 - val_loss: 0.3205 - val_accuracy: 0.8824\n",
            "Epoch 10/25\n",
            "42000/42000 [==============================] - 11s 259us/sample - loss: 0.2125 - accuracy: 0.9236 - val_loss: 0.3058 - val_accuracy: 0.8897\n",
            "Epoch 11/25\n",
            "42000/42000 [==============================] - 10s 245us/sample - loss: 0.1989 - accuracy: 0.9290 - val_loss: 0.3368 - val_accuracy: 0.8802\n",
            "Epoch 12/25\n",
            "42000/42000 [==============================] - 10s 237us/sample - loss: 0.1863 - accuracy: 0.9321 - val_loss: 0.3356 - val_accuracy: 0.8807\n",
            "Epoch 13/25\n",
            "42000/42000 [==============================] - 10s 240us/sample - loss: 0.1760 - accuracy: 0.9378 - val_loss: 0.3059 - val_accuracy: 0.8907\n",
            "Epoch 14/25\n",
            "42000/42000 [==============================] - 10s 234us/sample - loss: 0.1661 - accuracy: 0.9402 - val_loss: 0.3565 - val_accuracy: 0.8777\n",
            "Epoch 15/25\n",
            "42000/42000 [==============================] - 10s 237us/sample - loss: 0.1570 - accuracy: 0.9445 - val_loss: 0.3049 - val_accuracy: 0.8951\n",
            "Epoch 16/25\n",
            "42000/42000 [==============================] - 10s 242us/sample - loss: 0.1474 - accuracy: 0.9474 - val_loss: 0.3683 - val_accuracy: 0.8699\n",
            "Epoch 17/25\n",
            "42000/42000 [==============================] - 10s 240us/sample - loss: 0.1391 - accuracy: 0.9508 - val_loss: 0.3036 - val_accuracy: 0.8973\n",
            "Epoch 18/25\n",
            "42000/42000 [==============================] - 10s 234us/sample - loss: 0.1290 - accuracy: 0.9553 - val_loss: 0.3391 - val_accuracy: 0.8849\n",
            "Epoch 19/25\n",
            "42000/42000 [==============================] - 10s 236us/sample - loss: 0.1220 - accuracy: 0.9577 - val_loss: 0.3241 - val_accuracy: 0.8947\n",
            "Epoch 20/25\n",
            "42000/42000 [==============================] - 10s 237us/sample - loss: 0.1136 - accuracy: 0.9604 - val_loss: 0.3176 - val_accuracy: 0.8973\n",
            "Epoch 21/25\n",
            "42000/42000 [==============================] - 10s 234us/sample - loss: 0.1051 - accuracy: 0.9634 - val_loss: 0.3505 - val_accuracy: 0.8889\n",
            "Epoch 22/25\n",
            "42000/42000 [==============================] - 10s 234us/sample - loss: 0.0986 - accuracy: 0.9666 - val_loss: 0.3586 - val_accuracy: 0.8892\n",
            "Epoch 23/25\n",
            "42000/42000 [==============================] - 10s 232us/sample - loss: 0.0925 - accuracy: 0.9688 - val_loss: 0.3501 - val_accuracy: 0.8918\n",
            "Epoch 24/25\n",
            "42000/42000 [==============================] - 10s 232us/sample - loss: 0.0862 - accuracy: 0.9705 - val_loss: 0.3428 - val_accuracy: 0.8951\n",
            "Epoch 25/25\n",
            "42000/42000 [==============================] - 10s 245us/sample - loss: 0.0805 - accuracy: 0.9728 - val_loss: 0.3580 - val_accuracy: 0.8910\n"
          ],
          "name": "stdout"
        }
      ]
    },
    {
      "cell_type": "markdown",
      "metadata": {
        "id": "IJ5zvQjgkF4C",
        "colab_type": "text"
      },
      "source": [
        "# Evaluate"
      ]
    },
    {
      "cell_type": "code",
      "metadata": {
        "id": "7GeqyQTvsjmD",
        "colab_type": "code",
        "outputId": "2aa452d2-3c24-431d-c161-2ef3bce1f804",
        "colab": {
          "base_uri": "https://localhost:8080/",
          "height": 621
        }
      },
      "source": [
        "acc = history.history['accuracy']\n",
        "val_acc = history.history['val_accuracy']\n",
        "\n",
        "loss = history.history['loss']\n",
        "val_loss = history.history['val_loss']\n",
        "\n",
        "plt.figure(figsize=(10, 10))\n",
        "plt.subplot(2, 1, 1)\n",
        "plt.plot(acc, label='Training Accuracy')\n",
        "plt.plot(val_acc, label='Validation Accuracy')\n",
        "plt.legend(loc='lower right')\n",
        "plt.setp(plt.legend().get_texts(), color='black')\n",
        "plt.ylabel('Accuracy')\n",
        "#plt.ylim([min(plt.ylim()),0.7])\n",
        "plt.ylim([0.7,1.2])\n",
        "plt.title('Training and Validation Accuracy')\n",
        "\n",
        "plt.subplot(2, 1, 2)\n",
        "plt.plot(loss, label='Training Loss')\n",
        "plt.plot(val_loss, label='Validation Loss')\n",
        "plt.legend(loc='upper right')\n",
        "plt.setp(plt.legend().get_texts(), color='black')\n",
        "plt.ylabel('Cross Entropy')\n",
        "plt.ylim([-0.1,0.8])\n",
        "plt.title('Training and Validation Loss')\n",
        "plt.xlabel('epoch')\n",
        "plt.show()\n"
      ],
      "execution_count": 115,
      "outputs": [
        {
          "output_type": "display_data",
          "data": {
            "image/png": "[encoded data removed]",
            "text/plain": [
              "<Figure size 720x720 with 2 Axes>"
            ]
          },
          "metadata": {
            "tags": []
          }
        }
      ]
    },
    {
      "cell_type": "code",
      "metadata": {
        "id": "D1V31yORhsBr",
        "colab_type": "code",
        "outputId": "b259117e-6ca5-4586-8d5b-90fd575fd59b",
        "colab": {
          "base_uri": "https://localhost:8080/",
          "height": 52
        }
      },
      "source": [
        "test_loss, test_acc = model.evaluate(test_images,  test_labels, verbose=3)\n",
        "\n",
        "print('Loss:', test_loss)\n",
        "print('Accuracy:', test_acc)"
      ],
      "execution_count": 116,
      "outputs": [
        {
          "output_type": "stream",
          "text": [
            "Loss: 0.3940705207765102\n",
            "Accuracy: 0.881\n"
          ],
          "name": "stdout"
        }
      ]
    },
    {
      "cell_type": "markdown",
      "metadata": {
        "id": "eerMeVUskHw3",
        "colab_type": "text"
      },
      "source": [
        "# Make predictions"
      ]
    },
    {
      "cell_type": "code",
      "metadata": {
        "id": "Xi5yFJ-fi1-1",
        "colab_type": "code",
        "outputId": "734efe61-f516-424b-89c2-5fd72fd89f7f",
        "colab": {
          "base_uri": "https://localhost:8080/",
          "height": 316
        }
      },
      "source": [
        "img_index = np.random.randint(test_images.shape[0])\n",
        "img = test_images[img_index]\n",
        "\n",
        "predictions = model.predict(tf.expand_dims(img, 0))\n",
        "\n",
        "plt.imshow(img, cmap=plt.cm.binary)\n",
        "plt.title(class_names[test_labels[img_index]])\n",
        "plt.show()\n",
        "print('\\nPredicted class is:', class_names[np.argmax(predictions[0])])"
      ],
      "execution_count": 117,
      "outputs": [
        {
          "output_type": "display_data",
          "data": {
            "image/png": "[encoded data removed]",
            "text/plain": [
              "<Figure size 432x288 with 1 Axes>"
            ]
          },
          "metadata": {
            "tags": []
          }
        },
        {
          "output_type": "stream",
          "text": [
            "\n",
            "Predicted class is: T-shirt/top\n"
          ],
          "name": "stdout"
        }
      ]
    },
    {
      "cell_type": "code",
      "metadata": {
        "id": "pl7ukWvwmB8_",
        "colab_type": "code",
        "outputId": "90600477-2899-4536-9210-07f6e414c6df",
        "colab": {
          "base_uri": "https://localhost:8080/",
          "height": 335
        }
      },
      "source": [
        "test_image = tf.keras.utils.get_file('bolsa.jpg','https://www.prada.com/content/dam/pradanux_products/1/1BG/1BG242/2BBVF0YFS/1BG242_2BBV_F0YFS_V_OOO_SLF.png')\n",
        "test_image = Image.open(test_image).resize((28,28)).convert('L')\n",
        "test_image = np.array(test_image)/255.0\n",
        "predictions = model.predict(tf.expand_dims(test_image, 0))\n",
        "\n",
        "plt.imshow(test_image, cmap=plt.cm.binary)\n",
        "print('\\nPredicted class is:', class_names[np.argmax(predictions[0])])"
      ],
      "execution_count": 120,
      "outputs": [
        {
          "output_type": "stream",
          "text": [
            "Downloading data from https://www.prada.com/content/dam/pradanux_products/1/1BG/1BG242/2BBVF0YFS/1BG242_2BBV_F0YFS_V_OOO_SLF.png\n",
            "5570560/5568267 [==============================] - 1s 0us/step\n",
            "\n",
            "Predicted class is: Bag\n"
          ],
          "name": "stdout"
        },
        {
          "output_type": "display_data",
          "data": {
            "image/png": "[encoded data removed]",
            "text/plain": [
              "<Figure size 432x288 with 1 Axes>"
            ]
          },
          "metadata": {
            "tags": []
          }
        }
      ]
    }
  ]
}